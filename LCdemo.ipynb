{
 "cells": [
  {
   "cell_type": "markdown",
   "metadata": {},
   "source": [
    "Peer to Peer Lending Project"
   ]
  },
  {
   "cell_type": "code",
   "execution_count": 26,
   "metadata": {},
   "outputs": [
    {
     "data": {
      "text/html": [
       "<div>\n",
       "<style scoped>\n",
       "    .dataframe tbody tr th:only-of-type {\n",
       "        vertical-align: middle;\n",
       "    }\n",
       "\n",
       "    .dataframe tbody tr th {\n",
       "        vertical-align: top;\n",
       "    }\n",
       "\n",
       "    .dataframe thead th {\n",
       "        text-align: right;\n",
       "    }\n",
       "</style>\n",
       "<table border=\"1\" class=\"dataframe\">\n",
       "  <thead>\n",
       "    <tr style=\"text-align: right;\">\n",
       "      <th></th>\n",
       "      <th>Amount</th>\n",
       "      <th>FICO</th>\n",
       "      <th>dti</th>\n",
       "      <th>e_emp_length</th>\n",
       "      <th>c_Decision</th>\n",
       "    </tr>\n",
       "  </thead>\n",
       "  <tbody>\n",
       "    <tr>\n",
       "      <th>0</th>\n",
       "      <td>35000</td>\n",
       "      <td>699</td>\n",
       "      <td>19.6100</td>\n",
       "      <td>5</td>\n",
       "      <td>1</td>\n",
       "    </tr>\n",
       "    <tr>\n",
       "      <th>1</th>\n",
       "      <td>15000</td>\n",
       "      <td>647</td>\n",
       "      <td>0.2342</td>\n",
       "      <td>1</td>\n",
       "      <td>0</td>\n",
       "    </tr>\n",
       "    <tr>\n",
       "      <th>2</th>\n",
       "      <td>35000</td>\n",
       "      <td>709</td>\n",
       "      <td>20.5500</td>\n",
       "      <td>2</td>\n",
       "      <td>1</td>\n",
       "    </tr>\n",
       "    <tr>\n",
       "      <th>3</th>\n",
       "      <td>15000</td>\n",
       "      <td>664</td>\n",
       "      <td>9.3600</td>\n",
       "      <td>10</td>\n",
       "      <td>1</td>\n",
       "    </tr>\n",
       "    <tr>\n",
       "      <th>4</th>\n",
       "      <td>6000</td>\n",
       "      <td>650</td>\n",
       "      <td>0.3438</td>\n",
       "      <td>1</td>\n",
       "      <td>0</td>\n",
       "    </tr>\n",
       "    <tr>\n",
       "      <th>5</th>\n",
       "      <td>8700</td>\n",
       "      <td>606</td>\n",
       "      <td>0.1260</td>\n",
       "      <td>1</td>\n",
       "      <td>0</td>\n",
       "    </tr>\n",
       "    <tr>\n",
       "      <th>6</th>\n",
       "      <td>20000</td>\n",
       "      <td>689</td>\n",
       "      <td>27.3400</td>\n",
       "      <td>7</td>\n",
       "      <td>1</td>\n",
       "    </tr>\n",
       "    <tr>\n",
       "      <th>7</th>\n",
       "      <td>6000</td>\n",
       "      <td>674</td>\n",
       "      <td>8.9300</td>\n",
       "      <td>10</td>\n",
       "      <td>1</td>\n",
       "    </tr>\n",
       "    <tr>\n",
       "      <th>8</th>\n",
       "      <td>35000</td>\n",
       "      <td>633</td>\n",
       "      <td>0.1500</td>\n",
       "      <td>1</td>\n",
       "      <td>0</td>\n",
       "    </tr>\n",
       "    <tr>\n",
       "      <th>9</th>\n",
       "      <td>18000</td>\n",
       "      <td>684</td>\n",
       "      <td>30.2400</td>\n",
       "      <td>6</td>\n",
       "      <td>1</td>\n",
       "    </tr>\n",
       "  </tbody>\n",
       "</table>\n",
       "</div>"
      ],
      "text/plain": [
       "   Amount  FICO      dti  e_emp_length  c_Decision\n",
       "0   35000   699  19.6100             5           1\n",
       "1   15000   647   0.2342             1           0\n",
       "2   35000   709  20.5500             2           1\n",
       "3   15000   664   9.3600            10           1\n",
       "4    6000   650   0.3438             1           0\n",
       "5    8700   606   0.1260             1           0\n",
       "6   20000   689  27.3400             7           1\n",
       "7    6000   674   8.9300            10           1\n",
       "8   35000   633   0.1500             1           0\n",
       "9   18000   684  30.2400             6           1"
      ]
     },
     "execution_count": 26,
     "metadata": {},
     "output_type": "execute_result"
    }
   ],
   "source": [
    "# create histograms of numeric input variables\n",
    "#from pandas import read_csv\n",
    "import pandas as pd\n",
    "import numpy as np\n",
    "from matplotlib import pyplot\n",
    "\n",
    "#https://realpython.com/python-statistics/\n",
    "import math\n",
    "import statistics\n",
    "import scipy.stats\n",
    "\n",
    "#from sklearn.model_selection import train_test_split\n",
    "\n",
    "# define the dataset location\n",
    "filename = '2012-2013 Accept_Reject_Training.csv'\n",
    "\n",
    "# load the csv file as a data frame\n",
    "df = pd.read_csv(filename)\n",
    "#df = pd.read_csv(filename, index_col=0)\n",
    "\n",
    "df.head(10)"
   ]
  },
  {
   "cell_type": "code",
   "execution_count": 27,
   "metadata": {},
   "outputs": [
    {
     "name": "stdout",
     "output_type": "stream",
     "text": [
      "(26493, 5)\n"
     ]
    }
   ],
   "source": [
    "# summarize the shape of the dataset\n",
    "print(df.shape)"
   ]
  },
  {
   "cell_type": "code",
   "execution_count": 28,
   "metadata": {},
   "outputs": [
    {
     "name": "stdout",
     "output_type": "stream",
     "text": [
      "Amount            int64\n",
      "FICO              int64\n",
      "dti             float64\n",
      "e_emp_length      int64\n",
      "c_Decision        int64\n",
      "dtype: object\n"
     ]
    }
   ],
   "source": [
    "types = df.dtypes\n",
    "print(types)"
   ]
  },
  {
   "cell_type": "code",
   "execution_count": 7,
   "metadata": {},
   "outputs": [
    {
     "data": {
      "text/plain": [
       "array([[<matplotlib.axes._subplots.AxesSubplot object at 0x7f6630055898>,\n",
       "        <matplotlib.axes._subplots.AxesSubplot object at 0x7f6630006c88>]],\n",
       "      dtype=object)"
      ]
     },
     "execution_count": 7,
     "metadata": {},
     "output_type": "execute_result"
    },
    {
     "data": {
      "image/png": "[encoded data removed]",
      "text/plain": [
       "<Figure size 432x288 with 2 Axes>"
      ]
     },
     "metadata": {
      "needs_background": "light"
     },
     "output_type": "display_data"
    },
    {
     "data": {
      "image/png": "[encoded data removed]",
      "text/plain": [
       "<Figure size 432x288 with 2 Axes>"
      ]
     },
     "metadata": {
      "needs_background": "light"
     },
     "output_type": "display_data"
    }
   ],
   "source": [
    "df.hist(column=[\"Amount\", \"FICO\"])\n",
    "df.hist(column=[\"dti\", \"e_emp_length\"])"
   ]
  },
  {
   "cell_type": "code",
   "execution_count": 8,
   "metadata": {},
   "outputs": [
    {
     "name": "stdout",
     "output_type": "stream",
     "text": [
      "Mean Amount       -  14149.078058355037\n",
      "Mean FICO         -  670.5999320575246\n",
      "Mean dti          -  8.604369490053976\n",
      "Mean e_emp_length -  3.9170724342279093\n"
     ]
    }
   ],
   "source": [
    "#print df.describe(column=\"Amount\")\n",
    "#average1 = df['Amount'].mean()\n",
    "\n",
    "print('Mean Amount       - ', df['Amount'].mean())\n",
    "print('Mean FICO         - ', df['FICO'].mean())\n",
    "print('Mean dti          - ', df['dti'].mean())\n",
    "print('Mean e_emp_length - ', df['e_emp_length'].mean())"
   ]
  },
  {
   "cell_type": "code",
   "execution_count": 9,
   "metadata": {},
   "outputs": [
    {
     "data": {
      "text/plain": [
       "<matplotlib.axes._subplots.AxesSubplot at 0x7f662fef6940>"
      ]
     },
     "execution_count": 9,
     "metadata": {},
     "output_type": "execute_result"
    },
    {
     "data": {
      "image/png": "[encoded data removed]",
      "text/plain": [
       "<Figure size 432x288 with 1 Axes>"
      ]
     },
     "metadata": {
      "needs_background": "light"
     },
     "output_type": "display_data"
    }
   ],
   "source": [
    "#Box Plot\n",
    "df.boxplot(column=[\"Amount\"])"
   ]
  },
  {
   "cell_type": "code",
   "execution_count": 20,
   "metadata": {},
   "outputs": [
    {
     "data": {
      "text/plain": [
       "<matplotlib.axes._subplots.AxesSubplot at 0x7fc15cac5c18>"
      ]
     },
     "execution_count": 20,
     "metadata": {},
     "output_type": "execute_result"
    },
    {
     "data": {
      "image/png": "[encoded data removed]",
      "text/plain": [
       "<Figure size 432x288 with 1 Axes>"
      ]
     },
     "metadata": {},
     "output_type": "display_data"
    }
   ],
   "source": [
    "df.boxplot(column=[\"dti\"])"
   ]
  },
  {
   "cell_type": "code",
   "execution_count": 24,
   "metadata": {},
   "outputs": [
    {
     "data": {
      "text/plain": [
       "<matplotlib.axes._subplots.AxesSubplot at 0x7fc15c9806a0>"
      ]
     },
     "execution_count": 24,
     "metadata": {},
     "output_type": "execute_result"
    },
    {
     "data": {
      "image/png": "[encoded data removed]",
      "text/plain": [
       "<Figure size 432x288 with 1 Axes>"
      ]
     },
     "metadata": {},
     "output_type": "display_data"
    }
   ],
   "source": [
    "df.boxplot(column=[\"FICO\"])"
   ]
  },
  {
   "cell_type": "code",
   "execution_count": 29,
   "metadata": {},
   "outputs": [
    {
     "name": "stdout",
     "output_type": "stream",
     "text": [
      "         Amount      FICO       dti  e_emp_length  c_Decision\n",
      "count  26493.00  26493.00  2.65e+04      26493.00     26493.0\n",
      "mean   14149.08    670.60  8.60e+00          3.92         0.5\n",
      "std     9522.04     57.11  9.92e+00          3.61         0.5\n",
      "min     1000.00    407.00  2.00e-04          1.00         0.0\n",
      "25%     6250.00    649.00  1.95e-01          1.00         0.0\n",
      "50%    12000.00    679.00  9.45e-01          1.00         1.0\n",
      "75%    20000.00    704.00  1.66e+01          7.00         1.0\n",
      "max    35000.00    932.00  3.50e+01         10.00         1.0\n"
     ]
    }
   ],
   "source": [
    "# Statistical Summary\n",
    "pd.set_option('display.width', 100)\n",
    "pd.set_option('precision', 2)\n",
    "description = df.describe()\n",
    "print(description)"
   ]
  },
  {
   "cell_type": "code",
   "execution_count": 30,
   "metadata": {},
   "outputs": [
    {
     "name": "stdout",
     "output_type": "stream",
     "text": [
      "c_Decision\n",
      "0    13233\n",
      "1    13260\n",
      "dtype: int64\n"
     ]
    }
   ],
   "source": [
    "# Distribution by decision\n",
    "class_counts = df.groupby('c_Decision').size()\n",
    "print(class_counts)"
   ]
  },
  {
   "cell_type": "code",
   "execution_count": 31,
   "metadata": {},
   "outputs": [
    {
     "name": "stdout",
     "output_type": "stream",
     "text": [
      "              Amount   FICO    dti  e_emp_length  c_Decision\n",
      "Amount         1.000  0.255  0.055         0.097       0.043\n",
      "FICO           0.255  1.000  0.431         0.398       0.534\n",
      "dti            0.055  0.431  1.000         0.541       0.843\n",
      "e_emp_length   0.097  0.398  0.541         1.000       0.626\n",
      "c_Decision     0.043  0.534  0.843         0.626       1.000\n"
     ]
    }
   ],
   "source": [
    "# Pairwise Pearson correlations - Correlation Between Attributes\n",
    "pd.set_option('display.width', 100)\n",
    "pd.set_option('precision', 3)\n",
    "correlations = df.corr(method='pearson')\n",
    "print(correlations)"
   ]
  },
  {
   "cell_type": "code",
   "execution_count": 32,
   "metadata": {},
   "outputs": [
    {
     "name": "stdout",
     "output_type": "stream",
     "text": [
      "Amount          0.711\n",
      "FICO           -0.969\n",
      "dti             0.757\n",
      "e_emp_length    0.750\n",
      "c_Decision     -0.002\n",
      "dtype: float64\n"
     ]
    }
   ],
   "source": [
    "# Skew for each attribute\n",
    "# Knowing the skew allows data preparation to correct the skew and later improve the accuracy of models\n",
    "skew = df.skew()\n",
    "print(skew)"
   ]
  },
  {
   "cell_type": "code",
   "execution_count": 48,
   "metadata": {},
   "outputs": [],
   "source": [
    "# Train Test Split - X: all the features and y: target variable\n",
    "from sklearn.model_selection import train_test_split\n",
    "X_train, X_test, y_train, y_test = train_test_split(df.drop('c_Decision',axis=1), \n",
    "           df['c_Decision'], test_size=0.30)"
   ]
  },
  {
   "cell_type": "code",
   "execution_count": 49,
   "metadata": {},
   "outputs": [
    {
     "name": "stdout",
     "output_type": "stream",
     "text": [
      "X_train:         Amount  FICO     dti  e_emp_length\n",
      "1184    12000   664   2.860            10\n",
      "22127    3500   620   0.272             1\n",
      "24702   35000   671   0.261             1\n",
      "3591     3500   689  23.630             5\n",
      "18260   20000   655   0.211             1\n",
      "...       ...   ...     ...           ...\n",
      "10975   13000   640   0.086             1\n",
      "20846   15250   684  26.550             6\n",
      "24139   12000   694  34.600             7\n",
      "15887   10000   609   0.080             1\n",
      "7071    10000   685   0.133             4\n",
      "\n",
      "[18545 rows x 4 columns]\n",
      "y_train:  1184     1\n",
      "22127    0\n",
      "24702    0\n",
      "3591     1\n",
      "18260    0\n",
      "        ..\n",
      "10975    0\n",
      "20846    1\n",
      "24139    1\n",
      "15887    0\n",
      "7071     0\n",
      "Name: c_Decision, Length: 18545, dtype: int64\n"
     ]
    }
   ],
   "source": [
    "print (\"X_train: \", X_train)\n",
    "print (\"y_train: \", y_train)"
   ]
  },
  {
   "cell_type": "code",
   "execution_count": 50,
   "metadata": {},
   "outputs": [
    {
     "name": "stdout",
     "output_type": "stream",
     "text": [
      "X_test:         Amount  FICO     dti  e_emp_length\n",
      "24242   10000   655   0.353             1\n",
      "14399    5000   625   0.055             1\n",
      "23964    6000   674  11.890            10\n",
      "20114   15250   704  22.140             9\n",
      "22069   35000   653   0.134             1\n",
      "...       ...   ...     ...           ...\n",
      "10101   15000   472   0.114             1\n",
      "3849    15000   674  26.620            10\n",
      "4038     3500   701   0.151             1\n",
      "10368   30000   689   0.409             1\n",
      "13077   20000   699   0.342             2\n",
      "\n",
      "[7948 rows x 4 columns]\n",
      "y_test:  24242    0\n",
      "14399    0\n",
      "23964    1\n",
      "20114    1\n",
      "22069    0\n",
      "        ..\n",
      "10101    0\n",
      "3849     1\n",
      "4038     0\n",
      "10368    0\n",
      "13077    0\n",
      "Name: c_Decision, Length: 7948, dtype: int64\n"
     ]
    }
   ],
   "source": [
    "print(\"X_test: \", X_test)\n",
    "print (\"y_test: \", y_test)"
   ]
  },
  {
   "cell_type": "code",
   "execution_count": 51,
   "metadata": {},
   "outputs": [
    {
     "name": "stderr",
     "output_type": "stream",
     "text": [
      "/home/jupyterlab/conda/envs/python/lib/python3.6/site-packages/sklearn/linear_model/logistic.py:433: FutureWarning: Default solver will be changed to 'lbfgs' in 0.22. Specify a solver to silence this warning.\n",
      "  FutureWarning)\n"
     ]
    },
    {
     "data": {
      "text/plain": [
       "LogisticRegression(C=1.0, class_weight=None, dual=False, fit_intercept=True,\n",
       "          intercept_scaling=1, max_iter=100, multi_class='warn',\n",
       "          n_jobs=None, penalty='l2', random_state=None, solver='warn',\n",
       "          tol=0.0001, verbose=0, warm_start=False)"
      ]
     },
     "execution_count": 51,
     "metadata": {},
     "output_type": "execute_result"
    }
   ],
   "source": [
    "# Training and Predicting - Let’s use Logistic Regression to train the model\n",
    "from sklearn.linear_model import LogisticRegression\n",
    "#create an instance and fit the model \n",
    "logmodel = LogisticRegression()\n",
    "logmodel.fit(X_train, y_train)"
   ]
  },
  {
   "cell_type": "code",
   "execution_count": 52,
   "metadata": {},
   "outputs": [],
   "source": [
    "#predictions\n",
    "Predictions = logmodel.predict(X_test)"
   ]
  },
  {
   "cell_type": "code",
   "execution_count": 53,
   "metadata": {},
   "outputs": [
    {
     "name": "stdout",
     "output_type": "stream",
     "text": [
      "              precision    recall  f1-score   support\n",
      "\n",
      "           0       0.99      1.00      1.00      3981\n",
      "           1       1.00      0.99      1.00      3967\n",
      "\n",
      "   micro avg       1.00      1.00      1.00      7948\n",
      "   macro avg       1.00      1.00      1.00      7948\n",
      "weighted avg       1.00      1.00      1.00      7948\n",
      "\n"
     ]
    }
   ],
   "source": [
    "#Model Evaluation - precision, recall, f1-score using classification report and accuracy of model for predictions\n",
    "from sklearn.metrics import classification_report\n",
    "print(classification_report(y_test,Predictions))"
   ]
  },
  {
   "cell_type": "code",
   "execution_count": 54,
   "metadata": {},
   "outputs": [
    {
     "name": "stdout",
     "output_type": "stream",
     "text": [
      "[[3981    0]\n",
      " [  33 3934]]\n"
     ]
    }
   ],
   "source": [
    "#confusion matrix\n",
    "from sklearn.metrics import confusion_matrix\n",
    "print(confusion_matrix(y_test, Predictions))"
   ]
  },
  {
   "cell_type": "code",
   "execution_count": 60,
   "metadata": {},
   "outputs": [],
   "source": [
    "from PIL import Image  \n",
    "  \n",
    "# creating a object  \n",
    "im = Image.open('confusion_matrix.PNG')   \n",
    "im.show()"
   ]
  },
  {
   "cell_type": "code",
   "execution_count": null,
   "metadata": {},
   "outputs": [],
   "source": []
  },
  {
   "cell_type": "code",
   "execution_count": null,
   "metadata": {},
   "outputs": [],
   "source": []
  }
 ],
 "metadata": {
  "kernelspec": {
   "display_name": "Python",
   "language": "python",
   "name": "conda-env-python-py"
  },
  "language_info": {
   "codemirror_mode": {
    "name": "ipython",
    "version": 3
   },
   "file_extension": ".py",
   "mimetype": "text/x-python",
   "name": "python",
   "nbconvert_exporter": "python",
   "pygments_lexer": "ipython3",
   "version": "3.6.10"
  }
 },
 "nbformat": 4,
 "nbformat_minor": 4
}
