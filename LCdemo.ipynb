{
 "cells": [
  {
   "cell_type": "markdown",
   "metadata": {},
   "source": [
    "Peer to Peer Lending Project"
   ]
  },
  {
   "cell_type": "code",
   "execution_count": 27,
   "metadata": {},
   "outputs": [
    {
     "data": {
      "text/html": [
       "<div>\n",
       "<style scoped>\n",
       "    .dataframe tbody tr th:only-of-type {\n",
       "        vertical-align: middle;\n",
       "    }\n",
       "\n",
       "    .dataframe tbody tr th {\n",
       "        vertical-align: top;\n",
       "    }\n",
       "\n",
       "    .dataframe thead th {\n",
       "        text-align: right;\n",
       "    }\n",
       "</style>\n",
       "<table border=\"1\" class=\"dataframe\">\n",
       "  <thead>\n",
       "    <tr style=\"text-align: right;\">\n",
       "      <th></th>\n",
       "      <th>Amount</th>\n",
       "      <th>Amount_div</th>\n",
       "      <th>FICO</th>\n",
       "      <th>dti</th>\n",
       "      <th>e_emp_length</th>\n",
       "      <th>c_Decision</th>\n",
       "      <th>Decision</th>\n",
       "    </tr>\n",
       "  </thead>\n",
       "  <tbody>\n",
       "    <tr>\n",
       "      <th>0</th>\n",
       "      <td>35000</td>\n",
       "      <td>3.50</td>\n",
       "      <td>699</td>\n",
       "      <td>19.6100</td>\n",
       "      <td>5</td>\n",
       "      <td>1</td>\n",
       "      <td>Accept</td>\n",
       "    </tr>\n",
       "    <tr>\n",
       "      <th>1</th>\n",
       "      <td>15000</td>\n",
       "      <td>1.50</td>\n",
       "      <td>647</td>\n",
       "      <td>0.2342</td>\n",
       "      <td>1</td>\n",
       "      <td>0</td>\n",
       "      <td>Reject</td>\n",
       "    </tr>\n",
       "    <tr>\n",
       "      <th>2</th>\n",
       "      <td>35000</td>\n",
       "      <td>3.50</td>\n",
       "      <td>709</td>\n",
       "      <td>20.5500</td>\n",
       "      <td>2</td>\n",
       "      <td>1</td>\n",
       "      <td>Accept</td>\n",
       "    </tr>\n",
       "    <tr>\n",
       "      <th>3</th>\n",
       "      <td>15000</td>\n",
       "      <td>1.50</td>\n",
       "      <td>664</td>\n",
       "      <td>9.3600</td>\n",
       "      <td>10</td>\n",
       "      <td>1</td>\n",
       "      <td>Accept</td>\n",
       "    </tr>\n",
       "    <tr>\n",
       "      <th>4</th>\n",
       "      <td>6000</td>\n",
       "      <td>0.60</td>\n",
       "      <td>650</td>\n",
       "      <td>0.3438</td>\n",
       "      <td>1</td>\n",
       "      <td>0</td>\n",
       "      <td>Reject</td>\n",
       "    </tr>\n",
       "    <tr>\n",
       "      <th>5</th>\n",
       "      <td>8700</td>\n",
       "      <td>0.87</td>\n",
       "      <td>606</td>\n",
       "      <td>0.1260</td>\n",
       "      <td>1</td>\n",
       "      <td>0</td>\n",
       "      <td>Reject</td>\n",
       "    </tr>\n",
       "    <tr>\n",
       "      <th>6</th>\n",
       "      <td>20000</td>\n",
       "      <td>2.00</td>\n",
       "      <td>689</td>\n",
       "      <td>27.3400</td>\n",
       "      <td>7</td>\n",
       "      <td>1</td>\n",
       "      <td>Accept</td>\n",
       "    </tr>\n",
       "    <tr>\n",
       "      <th>7</th>\n",
       "      <td>6000</td>\n",
       "      <td>0.60</td>\n",
       "      <td>674</td>\n",
       "      <td>8.9300</td>\n",
       "      <td>10</td>\n",
       "      <td>1</td>\n",
       "      <td>Accept</td>\n",
       "    </tr>\n",
       "    <tr>\n",
       "      <th>8</th>\n",
       "      <td>35000</td>\n",
       "      <td>3.50</td>\n",
       "      <td>633</td>\n",
       "      <td>0.1500</td>\n",
       "      <td>1</td>\n",
       "      <td>0</td>\n",
       "      <td>Reject</td>\n",
       "    </tr>\n",
       "    <tr>\n",
       "      <th>9</th>\n",
       "      <td>18000</td>\n",
       "      <td>1.80</td>\n",
       "      <td>684</td>\n",
       "      <td>30.2400</td>\n",
       "      <td>6</td>\n",
       "      <td>1</td>\n",
       "      <td>Accept</td>\n",
       "    </tr>\n",
       "  </tbody>\n",
       "</table>\n",
       "</div>"
      ],
      "text/plain": [
       "   Amount  Amount_div  FICO      dti  e_emp_length  c_Decision Decision\n",
       "0   35000        3.50   699  19.6100             5           1   Accept\n",
       "1   15000        1.50   647   0.2342             1           0   Reject\n",
       "2   35000        3.50   709  20.5500             2           1   Accept\n",
       "3   15000        1.50   664   9.3600            10           1   Accept\n",
       "4    6000        0.60   650   0.3438             1           0   Reject\n",
       "5    8700        0.87   606   0.1260             1           0   Reject\n",
       "6   20000        2.00   689  27.3400             7           1   Accept\n",
       "7    6000        0.60   674   8.9300            10           1   Accept\n",
       "8   35000        3.50   633   0.1500             1           0   Reject\n",
       "9   18000        1.80   684  30.2400             6           1   Accept"
      ]
     },
     "execution_count": 27,
     "metadata": {},
     "output_type": "execute_result"
    }
   ],
   "source": [
    "# create histograms of numeric input variables\n",
    "#from pandas import read_csv\n",
    "import pandas as pd\n",
    "import numpy as np\n",
    "from matplotlib import pyplot\n",
    "\n",
    "#https://realpython.com/python-statistics/\n",
    "import math\n",
    "import statistics\n",
    "import scipy.stats\n",
    "\n",
    "# define the dataset location\n",
    "filename = '2012-2013 Accept_Reject_Training.csv'\n",
    "\n",
    "# load the csv file as a data frame\n",
    "df = pd.read_csv(filename)\n",
    "\n",
    "df.head(10)\n"
   ]
  },
  {
   "cell_type": "code",
   "execution_count": 23,
   "metadata": {},
   "outputs": [
    {
     "name": "stdout",
     "output_type": "stream",
     "text": [
      "(26494, 7)\n"
     ]
    }
   ],
   "source": [
    "# summarize the shape of the dataset\n",
    "print(dataframe.shape)"
   ]
  },
  {
   "cell_type": "code",
   "execution_count": 28,
   "metadata": {},
   "outputs": [
    {
     "name": "stdout",
     "output_type": "stream",
     "text": [
      "Amount            int64\n",
      "Amount_div      float64\n",
      "FICO              int64\n",
      "dti             float64\n",
      "e_emp_length      int64\n",
      "c_Decision        int64\n",
      "Decision         object\n",
      "dtype: object\n"
     ]
    }
   ],
   "source": [
    "types = df.dtypes\n",
    "print(types)"
   ]
  },
  {
   "cell_type": "code",
   "execution_count": 28,
   "metadata": {},
   "outputs": [
    {
     "data": {
      "text/plain": [
       "array([[<matplotlib.axes._subplots.AxesSubplot object at 0x7f1d6fae6f28>,\n",
       "        <matplotlib.axes._subplots.AxesSubplot object at 0x7f1d6faa5358>]],\n",
       "      dtype=object)"
      ]
     },
     "execution_count": 28,
     "metadata": {},
     "output_type": "execute_result"
    },
    {
     "data": {
      "image/png": "[encoded data removed]",
      "text/plain": [
       "<Figure size 432x288 with 2 Axes>"
      ]
     },
     "metadata": {
      "needs_background": "light"
     },
     "output_type": "display_data"
    },
    {
     "data": {
      "image/png": "[encoded data removed]",
      "text/plain": [
       "<Figure size 432x288 with 2 Axes>"
      ]
     },
     "metadata": {
      "needs_background": "light"
     },
     "output_type": "display_data"
    }
   ],
   "source": [
    "df.hist(column=[\"Amount\", \"FICO\"])\n",
    "df.hist(column=[\"dti\", \"e_emp_length\"])"
   ]
  },
  {
   "cell_type": "code",
   "execution_count": 32,
   "metadata": {},
   "outputs": [
    {
     "name": "stdout",
     "output_type": "stream",
     "text": [
      "Mean Amount       -  14149.078058355037\n",
      "Mean FICO         -  670.5999320575246\n",
      "Mean dti          -  8.604369490053976\n",
      "Mean e_emp_length -  3.9170724342279093\n"
     ]
    }
   ],
   "source": [
    "#print df.describe(column=\"Amount\")\n",
    "#average1 = df['Amount'].mean()\n",
    "\n",
    "print('Mean Amount       - ', df['Amount'].mean())\n",
    "print('Mean FICO         - ', df['FICO'].mean())\n",
    "print('Mean dti          - ', df['dti'].mean())\n",
    "print('Mean e_emp_length - ', df['e_emp_length'].mean())"
   ]
  },
  {
   "cell_type": "code",
   "execution_count": 21,
   "metadata": {},
   "outputs": [
    {
     "data": {
      "text/plain": [
       "<matplotlib.axes._subplots.AxesSubplot at 0x7fc15ca3af28>"
      ]
     },
     "execution_count": 21,
     "metadata": {},
     "output_type": "execute_result"
    },
    {
     "data": {
      "image/png": "[encoded data removed]",
      "text/plain": [
       "<Figure size 432x288 with 1 Axes>"
      ]
     },
     "metadata": {},
     "output_type": "display_data"
    }
   ],
   "source": [
    "#Box Plot\n",
    "df.boxplot(column=[\"Amount\"])"
   ]
  },
  {
   "cell_type": "code",
   "execution_count": 20,
   "metadata": {},
   "outputs": [
    {
     "data": {
      "text/plain": [
       "<matplotlib.axes._subplots.AxesSubplot at 0x7fc15cac5c18>"
      ]
     },
     "execution_count": 20,
     "metadata": {},
     "output_type": "execute_result"
    },
    {
     "data": {
      "image/png": "[encoded data removed]",
      "text/plain": [
       "<Figure size 432x288 with 1 Axes>"
      ]
     },
     "metadata": {},
     "output_type": "display_data"
    }
   ],
   "source": [
    "df.boxplot(column=[\"dti\"])"
   ]
  },
  {
   "cell_type": "code",
   "execution_count": 24,
   "metadata": {},
   "outputs": [
    {
     "data": {
      "text/plain": [
       "<matplotlib.axes._subplots.AxesSubplot at 0x7fc15c9806a0>"
      ]
     },
     "execution_count": 24,
     "metadata": {},
     "output_type": "execute_result"
    },
    {
     "data": {
      "image/png": "[encoded data removed]",
      "text/plain": [
       "<Figure size 432x288 with 1 Axes>"
      ]
     },
     "metadata": {},
     "output_type": "display_data"
    }
   ],
   "source": [
    "df.boxplot(column=[\"FICO\"])"
   ]
  },
  {
   "cell_type": "code",
   "execution_count": 34,
   "metadata": {},
   "outputs": [
    {
     "name": "stdout",
     "output_type": "stream",
     "text": [
      "         Amount  Amount_div      FICO       dti  e_emp_length  c_Decision\n",
      "count  26493.00    26493.00  26493.00  2.65e+04      26493.00     26493.0\n",
      "mean   14149.08        1.42    670.60  8.60e+00          3.92         0.5\n",
      "std     9522.04        0.95     57.11  9.92e+00          3.61         0.5\n",
      "min     1000.00        0.10    407.00  2.00e-04          1.00         0.0\n",
      "25%     6250.00        0.63    649.00  1.95e-01          1.00         0.0\n",
      "50%    12000.00        1.20    679.00  9.45e-01          1.00         1.0\n",
      "75%    20000.00        2.00    704.00  1.66e+01          7.00         1.0\n",
      "max    35000.00        3.50    932.00  3.50e+01         10.00         1.0\n"
     ]
    }
   ],
   "source": [
    "# Statistical Summary\n",
    "pd.set_option('display.width', 100)\n",
    "pd.set_option('precision', 2)\n",
    "description = df.describe()\n",
    "print(description)"
   ]
  },
  {
   "cell_type": "code",
   "execution_count": 35,
   "metadata": {},
   "outputs": [
    {
     "name": "stdout",
     "output_type": "stream",
     "text": [
      "c_Decision\n",
      "0    13233\n",
      "1    13260\n",
      "dtype: int64\n"
     ]
    }
   ],
   "source": [
    "# Distribution by decision\n",
    "class_counts = df.groupby('c_Decision').size()\n",
    "print(class_counts)"
   ]
  },
  {
   "cell_type": "code",
   "execution_count": 36,
   "metadata": {},
   "outputs": [
    {
     "name": "stdout",
     "output_type": "stream",
     "text": [
      "              Amount  Amount_div   FICO    dti  e_emp_length  c_Decision\n",
      "Amount         1.000       1.000  0.255  0.055         0.097       0.043\n",
      "Amount_div     1.000       1.000  0.255  0.055         0.097       0.044\n",
      "FICO           0.255       0.255  1.000  0.431         0.398       0.534\n",
      "dti            0.055       0.055  0.431  1.000         0.541       0.843\n",
      "e_emp_length   0.097       0.097  0.398  0.541         1.000       0.626\n",
      "c_Decision     0.043       0.044  0.534  0.843         0.626       1.000\n"
     ]
    }
   ],
   "source": [
    "# Pairwise Pearson correlations - Correlation Between Attributes\n",
    "pd.set_option('display.width', 100)\n",
    "pd.set_option('precision', 3)\n",
    "correlations = df.corr(method='pearson')\n",
    "print(correlations)"
   ]
  },
  {
   "cell_type": "code",
   "execution_count": 37,
   "metadata": {},
   "outputs": [
    {
     "name": "stdout",
     "output_type": "stream",
     "text": [
      "Amount          0.711\n",
      "Amount_div      0.711\n",
      "FICO           -0.969\n",
      "dti             0.757\n",
      "e_emp_length    0.750\n",
      "c_Decision     -0.002\n",
      "dtype: float64\n"
     ]
    }
   ],
   "source": [
    "# Skew for each attribute\n",
    "# Knowing the skew allows data preparation to correct the skew and later improve the accuracy of models\n",
    "skew = df.skew()\n",
    "print(skew)"
   ]
  },
  {
   "cell_type": "code",
   "execution_count": null,
   "metadata": {},
   "outputs": [],
   "source": []
  }
 ],
 "metadata": {
  "kernelspec": {
   "display_name": "Python",
   "language": "python",
   "name": "conda-env-python-py"
  },
  "language_info": {
   "codemirror_mode": {
    "name": "ipython",
    "version": 3
   },
   "file_extension": ".py",
   "mimetype": "text/x-python",
   "name": "python",
   "nbconvert_exporter": "python",
   "pygments_lexer": "ipython3",
   "version": "3.6.10"
  }
 },
 "nbformat": 4,
 "nbformat_minor": 4
}
